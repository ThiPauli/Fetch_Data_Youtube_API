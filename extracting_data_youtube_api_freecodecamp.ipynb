{
 "cells": [
  {
   "cell_type": "markdown",
   "id": "5a8fc802",
   "metadata": {},
   "source": [
    "## Colecting Data from Youtube API\n",
    "- Pull the data from an API\n",
    "- Look through the JSON response\n",
    "- Save the data collected in a Local PostgreSQL Database\n",
    "- Cleaning, filtering and visualizing the data"
   ]
  },
  {
   "cell_type": "code",
   "execution_count": 1,
   "id": "dc2cb75d",
   "metadata": {},
   "outputs": [],
   "source": [
    "#importing libraries\n",
    "import requests #to make API calls\n",
    "import pandas as pd\n",
    "import time"
   ]
  },
  {
   "cell_type": "code",
   "execution_count": 2,
   "id": "357e0f57",
   "metadata": {},
   "outputs": [],
   "source": [
    "#Keys\n",
    "API_KEY ='xxxxxx'\n",
    "CHANNEL_ID = 'UC8butISFwT-Wl7EV0hUK0BQ' #from freeCodeCamp youtube channel"
   ]
  },
  {
   "cell_type": "markdown",
   "id": "ed7c83d2",
   "metadata": {},
   "source": [
    "### First API call:\n",
    "- Pulling data such as video id, title and upload date."
   ]
  },
  {
   "cell_type": "code",
   "execution_count": 3,
   "id": "c9ce3049",
   "metadata": {},
   "outputs": [],
   "source": [
    "#Making an API call\n",
    "# setting the deafault results per page (5).\n",
    "\n",
    "pageToken = None\n",
    "params = {'key': API_KEY, 'channelId': CHANNEL_ID, 'part' : 'snippet', 'order' : 'date', 'pageToken' : pageToken}\n",
    "\n",
    "url = 'https://www.googleapis.com/youtube/v3/search'\n",
    "response = requests.get(url, params=params).json()"
   ]
  },
  {
   "cell_type": "code",
   "execution_count": null,
   "id": "38ab1fdc",
   "metadata": {},
   "outputs": [],
   "source": [
    "#The information that I need are in items key\n",
    "response['items']"
   ]
  },
  {
   "cell_type": "markdown",
   "id": "3c52b3a1",
   "metadata": {},
   "source": [
    "#### Parsing through the Data"
   ]
  },
  {
   "cell_type": "code",
   "execution_count": 5,
   "id": "b04d04e0",
   "metadata": {},
   "outputs": [
    {
     "name": "stdout",
     "output_type": "stream",
     "text": [
      "M3ZWfamWrBM\n",
      "PyTorch and Monai for AI Healthcare Imaging - Python Machine Learning Course\n",
      "2022-01-06\n"
     ]
    }
   ],
   "source": [
    "#getting the info for the first video\n",
    "\n",
    "video_id = response['items'][0]['id']['videoId']\n",
    "print(video_id)\n",
    "\n",
    "video_title = response['items'][0]['snippet']['title']\n",
    "video_title = str(video_title).replace('&#39;', \"'\") #replace the Apostroph string\n",
    "print(video_title)\n",
    "\n",
    "upload_date = response['items'][0]['snippet']['publishedAt']\n",
    "upload_date = str(upload_date).split('T')[0] #getting only the date, not the timestamp\n",
    "print(upload_date)"
   ]
  },
  {
   "cell_type": "markdown",
   "id": "527a9f9d",
   "metadata": {},
   "source": [
    "### Second API call:\n",
    "- Pulling metric data such as number of views, likes and comments"
   ]
  },
  {
   "cell_type": "code",
   "execution_count": 6,
   "id": "5735b403",
   "metadata": {},
   "outputs": [],
   "source": [
    "#First, let's test for the first video id:\n",
    "\n",
    "first_video_id = 'M3ZWfamWrBM'\n",
    "params = {'key': API_KEY, 'id': first_video_id, 'part' : 'statistics'}\n",
    "\n",
    "url_video_stats = 'https://www.googleapis.com/youtube/v3/videos'\n",
    "response_video_stats = requests.get(url_video_stats, params=params).json()"
   ]
  },
  {
   "cell_type": "code",
   "execution_count": 7,
   "id": "21fd70ec",
   "metadata": {},
   "outputs": [
    {
     "data": {
      "text/plain": [
       "{'viewCount': '26065',\n",
       " 'likeCount': '1398',\n",
       " 'favoriteCount': '0',\n",
       " 'commentCount': '38'}"
      ]
     },
     "execution_count": 7,
     "metadata": {},
     "output_type": "execute_result"
    }
   ],
   "source": [
    "#Here what I want to grab\n",
    "\n",
    "response_video_stats['items'][0]['statistics']"
   ]
  },
  {
   "cell_type": "code",
   "execution_count": 8,
   "id": "49bd4762",
   "metadata": {},
   "outputs": [
    {
     "name": "stdout",
     "output_type": "stream",
     "text": [
      "26065\n",
      "1398\n",
      "38\n"
     ]
    }
   ],
   "source": [
    "view_count = response_video_stats['items'][0]['statistics']['viewCount']\n",
    "like_count = response_video_stats['items'][0]['statistics']['likeCount']\n",
    "comment_count = response_video_stats['items'][0]['statistics']['commentCount']\n",
    "print(view_count)\n",
    "print(like_count)\n",
    "print(comment_count)"
   ]
  },
  {
   "cell_type": "markdown",
   "id": "1237a900",
   "metadata": {},
   "source": [
    "### Combining both API calls"
   ]
  },
  {
   "cell_type": "code",
   "execution_count": 9,
   "id": "34d3736f",
   "metadata": {},
   "outputs": [],
   "source": [
    "#as we get the video_title for each video, we will pass it for the second call to get the statistics(views, likes and comment)\n",
    "\n",
    "def get_videos_details(video_id): \n",
    "    params = {'key': API_KEY, 'id': video_id, 'part' : 'statistics'}\n",
    "    url_video_stats = 'https://www.googleapis.com/youtube/v3/videos'\n",
    "    response_video_stats = requests.get(url_video_stats, params=params).json()\n",
    "\n",
    "    view_count = response_video_stats['items'][0]['statistics']['viewCount']\n",
    "    like_count = response_video_stats['items'][0]['statistics']['likeCount']\n",
    "    comment_count = response_video_stats['items'][0]['statistics']['commentCount']\n",
    "    \n",
    "    return view_count, like_count, comment_count"
   ]
  },
  {
   "cell_type": "code",
   "execution_count": 10,
   "id": "14cd7c6a",
   "metadata": {},
   "outputs": [],
   "source": [
    "def get_videos(df, list_tokens):\n",
    "    #Make the first API call\n",
    "    pageToken = None\n",
    "    \n",
    "    while True:\n",
    "        params = {'key': API_KEY, 'channelId': CHANNEL_ID, 'part' : 'snippet', 'order' : 'date', 'pageToken' : pageToken}\n",
    "        url = 'https://www.googleapis.com/youtube/v3/search'\n",
    "        response = requests.get(url, params=params).json()\n",
    "\n",
    "        time.sleep(1) #wait for a second to ensure the request response is already done before going to the for loop.\n",
    "\n",
    "        #Using this in case we got an error message for limit requests and then, it will not find 'items' in response!\n",
    "        try:\n",
    "            videos = response['items'] #it contains all video info\n",
    "        except Exception as e:\n",
    "            print(e)\n",
    "            break\n",
    "\n",
    "        for video in videos:\n",
    "            video_id = video['id']['videoId']\n",
    "\n",
    "            video_title = video['snippet']['title']\n",
    "            video_title = str(video_title).replace('&#39;', \"'\") #replace the Apostroph string\n",
    "\n",
    "            upload_date = video['snippet']['publishedAt']\n",
    "            upload_date = str(upload_date).split('T')[0] #getting only the date, not the timestamp (Year - Month - Day)\n",
    "\n",
    "            #calling the function defined above (second API call) and returning those metrics:\n",
    "            try:\n",
    "                view_count, like_count, comment_count = get_videos_details(video_id)\n",
    "            except Exception as e:\n",
    "                print(e)\n",
    "                break\n",
    "\n",
    "            #save the data into df row by row in each column\n",
    "            df = df.append({\"video_id\" : video_id,\"video_title\" : video_title,\"upload_date\" : upload_date\n",
    "                            ,\"view_count\" : view_count,\"like_count\" : like_count,\n",
    "                            \"comment_count\" : comment_count}, ignore_index=True)\n",
    "        \n",
    "        #After getting all the videos details, it has to grab the nextPageToken to go to the other page and do the same.\n",
    "        #if none, it means it reached the last page and break out of it.\n",
    "        \n",
    "        try:\n",
    "            if (response['nextPageToken'] != None) or (response['nextPageToken'] != ''): #if none, it means it reached the last page and break out of it\n",
    "                pageToken = str(response['nextPageToken'])\n",
    "\n",
    "        except Exception as e:\n",
    "            print(e)\n",
    "            break\n",
    "\n",
    "        #appending all the PageTokens for the pages we extract the data to track it for the next call (in case we ran out of requests).\n",
    "        list_tokens.append(response['nextPageToken'])\n",
    "\n",
    "    return df, list_tokens"
   ]
  },
  {
   "cell_type": "code",
   "execution_count": 11,
   "id": "54784354",
   "metadata": {},
   "outputs": [
    {
     "name": "stdout",
     "output_type": "stream",
     "text": [
      "'nextPageToken'\n"
     ]
    }
   ],
   "source": [
    "# Main\n",
    "\n",
    "list_tokens = []\n",
    "\n",
    "# Create an empty df with 6 columns\n",
    "df= pd.DataFrame(columns=[\"video_id\",\"video_title\",\"upload_date\",\"view_count\",\"like_count\",\"comment_count\"])\n",
    "\n",
    "# Calling the function, given an empty df and returning a df with all info.\n",
    "df, list_tokens = get_videos(df, list_tokens)"
   ]
  },
  {
   "cell_type": "code",
   "execution_count": 12,
   "id": "f34d1c96",
   "metadata": {},
   "outputs": [
    {
     "data": {
      "text/html": [
       "<div>\n",
       "<style scoped>\n",
       "    .dataframe tbody tr th:only-of-type {\n",
       "        vertical-align: middle;\n",
       "    }\n",
       "\n",
       "    .dataframe tbody tr th {\n",
       "        vertical-align: top;\n",
       "    }\n",
       "\n",
       "    .dataframe thead th {\n",
       "        text-align: right;\n",
       "    }\n",
       "</style>\n",
       "<table border=\"1\" class=\"dataframe\">\n",
       "  <thead>\n",
       "    <tr style=\"text-align: right;\">\n",
       "      <th></th>\n",
       "      <th>video_id</th>\n",
       "      <th>video_title</th>\n",
       "      <th>upload_date</th>\n",
       "      <th>view_count</th>\n",
       "      <th>like_count</th>\n",
       "      <th>comment_count</th>\n",
       "    </tr>\n",
       "  </thead>\n",
       "  <tbody>\n",
       "    <tr>\n",
       "      <th>0</th>\n",
       "      <td>jwCmIBJ8Jtc</td>\n",
       "      <td>Figma Tutorial for UI Design - Course for Begi...</td>\n",
       "      <td>2022-01-05</td>\n",
       "      <td>55000</td>\n",
       "      <td>2488</td>\n",
       "      <td>151</td>\n",
       "    </tr>\n",
       "    <tr>\n",
       "      <th>1</th>\n",
       "      <td>025QFeZfeyM</td>\n",
       "      <td>Code a 2D Game Engine using Java - Full Course...</td>\n",
       "      <td>2022-01-03</td>\n",
       "      <td>139575</td>\n",
       "      <td>6315</td>\n",
       "      <td>424</td>\n",
       "    </tr>\n",
       "    <tr>\n",
       "      <th>2</th>\n",
       "      <td>b_IDdQzPRR4</td>\n",
       "      <td>Learn to Code RPG - A freeCodeCamp.org Game [p...</td>\n",
       "      <td>2021-12-22</td>\n",
       "      <td>122505</td>\n",
       "      <td>3206</td>\n",
       "      <td>98</td>\n",
       "    </tr>\n",
       "    <tr>\n",
       "      <th>3</th>\n",
       "      <td>erka8USiBgM</td>\n",
       "      <td>Build a CRM with Google Sheets + PostgreSQL + ...</td>\n",
       "      <td>2021-12-21</td>\n",
       "      <td>278634</td>\n",
       "      <td>6558</td>\n",
       "      <td>262</td>\n",
       "    </tr>\n",
       "    <tr>\n",
       "      <th>4</th>\n",
       "      <td>47NRaBVxgVM</td>\n",
       "      <td>Internet History, Technology, and Security - F...</td>\n",
       "      <td>2021-12-20</td>\n",
       "      <td>125070</td>\n",
       "      <td>4886</td>\n",
       "      <td>177</td>\n",
       "    </tr>\n",
       "  </tbody>\n",
       "</table>\n",
       "</div>"
      ],
      "text/plain": [
       "      video_id                                        video_title upload_date  \\\n",
       "0  jwCmIBJ8Jtc  Figma Tutorial for UI Design - Course for Begi...  2022-01-05   \n",
       "1  025QFeZfeyM  Code a 2D Game Engine using Java - Full Course...  2022-01-03   \n",
       "2  b_IDdQzPRR4  Learn to Code RPG - A freeCodeCamp.org Game [p...  2021-12-22   \n",
       "3  erka8USiBgM  Build a CRM with Google Sheets + PostgreSQL + ...  2021-12-21   \n",
       "4  47NRaBVxgVM  Internet History, Technology, and Security - F...  2021-12-20   \n",
       "\n",
       "  view_count like_count comment_count  \n",
       "0      55000       2488           151  \n",
       "1     139575       6315           424  \n",
       "2     122505       3206            98  \n",
       "3     278634       6558           262  \n",
       "4     125070       4886           177  "
      ]
     },
     "execution_count": 12,
     "metadata": {},
     "output_type": "execute_result"
    }
   ],
   "source": [
    "df.head()"
   ]
  },
  {
   "cell_type": "code",
   "execution_count": 13,
   "id": "92830f64",
   "metadata": {},
   "outputs": [
    {
     "data": {
      "text/plain": [
       "(420, 6)"
      ]
     },
     "execution_count": 13,
     "metadata": {},
     "output_type": "execute_result"
    }
   ],
   "source": [
    "df.shape"
   ]
  },
  {
   "cell_type": "code",
   "execution_count": 14,
   "id": "d8d94294",
   "metadata": {},
   "outputs": [
    {
     "name": "stdout",
     "output_type": "stream",
     "text": [
      "CKQDEAA\n"
     ]
    }
   ],
   "source": [
    "print(list_tokens[-1])"
   ]
  },
  {
   "cell_type": "code",
   "execution_count": 22,
   "id": "80b1ae2d",
   "metadata": {},
   "outputs": [],
   "source": [
    "pageToken = 'CKQDEAA'\n",
    "params = {'key': API_KEY, 'channelId': CHANNEL_ID, 'part' : 'snippet', 'order' : 'date', 'pageToken' : pageToken}\n",
    "\n",
    "url = 'https://www.googleapis.com/youtube/v3/search'\n",
    "response = requests.get(url, params=params).json()"
   ]
  },
  {
   "cell_type": "code",
   "execution_count": 25,
   "id": "2cb4fbc1",
   "metadata": {},
   "outputs": [
    {
     "data": {
      "text/plain": [
       "{'kind': 'youtube#searchListResponse',\n",
       " 'etag': 'RyNdWcV-hCiK4M4BPfJCE-xAJyY',\n",
       " 'prevPageToken': 'CKQDEAE',\n",
       " 'regionCode': 'DE',\n",
       " 'pageInfo': {'totalResults': 1424, 'resultsPerPage': 1},\n",
       " 'items': [{'kind': 'youtube#searchResult',\n",
       "   'etag': 'kflPJhN_-_rUgPOIk0YSiVIUDIo',\n",
       "   'id': {'kind': 'youtube#video', 'videoId': 'vJZf48t_OEI'},\n",
       "   'snippet': {'publishedAt': '2017-08-10T20:37:56Z',\n",
       "    'channelId': 'UC8butISFwT-Wl7EV0hUK0BQ',\n",
       "    'title': 'React Project 2 Day 16 - Live Coding with Jesse',\n",
       "    'description': 'Day 16 of the new React project. Today I am continuing to work on the masonry layout of the logo download section.',\n",
       "    'thumbnails': {'default': {'url': 'https://i.ytimg.com/vi/vJZf48t_OEI/default.jpg',\n",
       "      'width': 120,\n",
       "      'height': 90},\n",
       "     'medium': {'url': 'https://i.ytimg.com/vi/vJZf48t_OEI/mqdefault.jpg',\n",
       "      'width': 320,\n",
       "      'height': 180},\n",
       "     'high': {'url': 'https://i.ytimg.com/vi/vJZf48t_OEI/hqdefault.jpg',\n",
       "      'width': 480,\n",
       "      'height': 360}},\n",
       "    'channelTitle': 'freeCodeCamp.org',\n",
       "    'liveBroadcastContent': 'none',\n",
       "    'publishTime': '2017-08-10T20:37:56Z'}}]}"
      ]
     },
     "execution_count": 25,
     "metadata": {},
     "output_type": "execute_result"
    }
   ],
   "source": [
    "response"
   ]
  },
  {
   "cell_type": "markdown",
   "id": "9abebf0f",
   "metadata": {},
   "source": [
    "#### Although the freeCodeCamp youtube channel has 1424 videos, at some point it did not provide the nextPageToken, so it extracted only 420 records."
   ]
  },
  {
   "cell_type": "markdown",
   "id": "7591bd78",
   "metadata": {},
   "source": [
    "### Upload this data to a database:\n",
    "- Store the data in the Local SQL Server database"
   ]
  },
  {
   "cell_type": "code",
   "execution_count": 26,
   "id": "c7d0d4be",
   "metadata": {},
   "outputs": [],
   "source": [
    "import psycopg2 as ps #to connect to a PostgreSQL database from Python"
   ]
  },
  {
   "cell_type": "code",
   "execution_count": 27,
   "id": "799ff2ee",
   "metadata": {},
   "outputs": [],
   "source": [
    "#creating the connection function\n",
    "def connect_to_db(host_name, data_base, user_name, password, port_id):\n",
    "    try:\n",
    "        conn = ps.connect(host = host_name, database = data_base, user = user_name, password = password, port = port_id)\n",
    "    except ps.OperationalError as e:\n",
    "        raise e\n",
    "    else:\n",
    "        print('Connected sucessfully!')\n",
    "    \n",
    "    return conn"
   ]
  },
  {
   "cell_type": "code",
   "execution_count": 28,
   "id": "91161c7c",
   "metadata": {},
   "outputs": [],
   "source": [
    "# credentials for the local database in my machine\n",
    "host_name = 'localhost'\n",
    "data_base = 'postgres'\n",
    "user_name = 'postgres'\n",
    "password = 'xxxxxx'\n",
    "port_id = '5432'\n",
    "conn = None"
   ]
  },
  {
   "cell_type": "code",
   "execution_count": 29,
   "id": "154cc7dc",
   "metadata": {},
   "outputs": [
    {
     "name": "stdout",
     "output_type": "stream",
     "text": [
      "Connected sucessfully!\n"
     ]
    }
   ],
   "source": [
    "conn = connect_to_db(host_name, data_base, user_name, password, port_id)"
   ]
  },
  {
   "cell_type": "markdown",
   "id": "c9229a19",
   "metadata": {},
   "source": [
    "#### Creating the db table"
   ]
  },
  {
   "cell_type": "code",
   "execution_count": 30,
   "id": "47dffe6b",
   "metadata": {},
   "outputs": [],
   "source": [
    "def create_table(curr):\n",
    "    create_table_command = (''' CREATE TABLE IF NOT EXISTS youtube_videos_freecodecamp (\n",
    "                                video_id VARCHAR (300) PRIMARY KEY,\n",
    "                                video_title TEXT NOT NULL,\n",
    "                                upload_date DATE NOT NULL DEFAULT CURRENT_DATE,\n",
    "                                view_count INT NOT NULL,\n",
    "                                like_count INT NOT NULL,\n",
    "                                comment_count INT NOT NULL\n",
    "                            );''')\n",
    "    curr.execute(create_table_command)"
   ]
  },
  {
   "cell_type": "code",
   "execution_count": 31,
   "id": "ebc2b61d",
   "metadata": {},
   "outputs": [],
   "source": [
    "#creating the cursor to execute the SQL commands\n",
    "curr = conn.cursor()"
   ]
  },
  {
   "cell_type": "code",
   "execution_count": 32,
   "id": "5f16acaa",
   "metadata": {},
   "outputs": [],
   "source": [
    "create_table(curr)"
   ]
  },
  {
   "cell_type": "code",
   "execution_count": 33,
   "id": "41d4b4b0",
   "metadata": {},
   "outputs": [],
   "source": [
    "conn.commit()"
   ]
  },
  {
   "cell_type": "markdown",
   "id": "0783a1b2",
   "metadata": {},
   "source": [
    "#### Loading the data to the database table:\n",
    "- video id, title and upload date are records that are never going to be changed/updated.\n",
    "- view, like and comment counts update every time we pull new data from the API."
   ]
  },
  {
   "cell_type": "code",
   "execution_count": 34,
   "id": "38b62f59",
   "metadata": {},
   "outputs": [
    {
     "data": {
      "text/html": [
       "<div>\n",
       "<style scoped>\n",
       "    .dataframe tbody tr th:only-of-type {\n",
       "        vertical-align: middle;\n",
       "    }\n",
       "\n",
       "    .dataframe tbody tr th {\n",
       "        vertical-align: top;\n",
       "    }\n",
       "\n",
       "    .dataframe thead th {\n",
       "        text-align: right;\n",
       "    }\n",
       "</style>\n",
       "<table border=\"1\" class=\"dataframe\">\n",
       "  <thead>\n",
       "    <tr style=\"text-align: right;\">\n",
       "      <th></th>\n",
       "      <th>video_id</th>\n",
       "      <th>video_title</th>\n",
       "      <th>upload_date</th>\n",
       "      <th>view_count</th>\n",
       "      <th>like_count</th>\n",
       "      <th>comment_count</th>\n",
       "    </tr>\n",
       "  </thead>\n",
       "  <tbody>\n",
       "    <tr>\n",
       "      <th>0</th>\n",
       "      <td>jwCmIBJ8Jtc</td>\n",
       "      <td>Figma Tutorial for UI Design - Course for Begi...</td>\n",
       "      <td>2022-01-05</td>\n",
       "      <td>55000</td>\n",
       "      <td>2488</td>\n",
       "      <td>151</td>\n",
       "    </tr>\n",
       "    <tr>\n",
       "      <th>1</th>\n",
       "      <td>025QFeZfeyM</td>\n",
       "      <td>Code a 2D Game Engine using Java - Full Course...</td>\n",
       "      <td>2022-01-03</td>\n",
       "      <td>139575</td>\n",
       "      <td>6315</td>\n",
       "      <td>424</td>\n",
       "    </tr>\n",
       "    <tr>\n",
       "      <th>2</th>\n",
       "      <td>b_IDdQzPRR4</td>\n",
       "      <td>Learn to Code RPG - A freeCodeCamp.org Game [p...</td>\n",
       "      <td>2021-12-22</td>\n",
       "      <td>122505</td>\n",
       "      <td>3206</td>\n",
       "      <td>98</td>\n",
       "    </tr>\n",
       "    <tr>\n",
       "      <th>3</th>\n",
       "      <td>erka8USiBgM</td>\n",
       "      <td>Build a CRM with Google Sheets + PostgreSQL + ...</td>\n",
       "      <td>2021-12-21</td>\n",
       "      <td>278634</td>\n",
       "      <td>6558</td>\n",
       "      <td>262</td>\n",
       "    </tr>\n",
       "    <tr>\n",
       "      <th>4</th>\n",
       "      <td>47NRaBVxgVM</td>\n",
       "      <td>Internet History, Technology, and Security - F...</td>\n",
       "      <td>2021-12-20</td>\n",
       "      <td>125070</td>\n",
       "      <td>4886</td>\n",
       "      <td>177</td>\n",
       "    </tr>\n",
       "  </tbody>\n",
       "</table>\n",
       "</div>"
      ],
      "text/plain": [
       "      video_id                                        video_title upload_date  \\\n",
       "0  jwCmIBJ8Jtc  Figma Tutorial for UI Design - Course for Begi...  2022-01-05   \n",
       "1  025QFeZfeyM  Code a 2D Game Engine using Java - Full Course...  2022-01-03   \n",
       "2  b_IDdQzPRR4  Learn to Code RPG - A freeCodeCamp.org Game [p...  2021-12-22   \n",
       "3  erka8USiBgM  Build a CRM with Google Sheets + PostgreSQL + ...  2021-12-21   \n",
       "4  47NRaBVxgVM  Internet History, Technology, and Security - F...  2021-12-20   \n",
       "\n",
       "  view_count like_count comment_count  \n",
       "0      55000       2488           151  \n",
       "1     139575       6315           424  \n",
       "2     122505       3206            98  \n",
       "3     278634       6558           262  \n",
       "4     125070       4886           177  "
      ]
     },
     "execution_count": 34,
     "metadata": {},
     "output_type": "execute_result"
    }
   ],
   "source": [
    "df.head()"
   ]
  },
  {
   "cell_type": "code",
   "execution_count": 35,
   "id": "b3caf06d",
   "metadata": {},
   "outputs": [],
   "source": [
    "#check if the video id from the db match the video id from the df.\n",
    "\n",
    "def check_video_exists(curr, video_id):\n",
    "    query_select = ('''SELECT video_id FROM youtube_videos_freecodecamp WHERE video_id = %s;''')\n",
    "    \n",
    "    #To generate a one-element tuple, a comma , is required at the end.\n",
    "    variable = (video_id,) #the variable that come from the df and goes to the sql query\n",
    "    \n",
    "    curr.execute(query_select, variable)\n",
    "    record = curr.fetchone() #returns a single record or None if there is no row available.\n",
    "    \n",
    "    if record is not None: #it executes only if there is record (the video already exists)\n",
    "        return record\n",
    "    else:\n",
    "        return False"
   ]
  },
  {
   "cell_type": "code",
   "execution_count": 36,
   "id": "0423f733",
   "metadata": {},
   "outputs": [],
   "source": [
    "# The update row function.\n",
    "def update_row(curr, video_id, view_count, like_count, comment_count):\n",
    "    query_update = ('''UPDATE youtube_videos_freecodecamp\n",
    "                    SET view_count = %s,\n",
    "                    like_count = %s,\n",
    "                    comment_count = %s\n",
    "                    WHERE video_id = %s;''')\n",
    "\n",
    "    variables = (view_count, like_count, comment_count, video_id) #the variables that come from the df and go to the sql query\n",
    "    curr.execute(query_update, variables)"
   ]
  },
  {
   "cell_type": "code",
   "execution_count": 37,
   "id": "be83194d",
   "metadata": {},
   "outputs": [],
   "source": [
    "#Defining the function which will update the database inserting new records and/or updating the metrics\n",
    "\n",
    "def update_database(curr, df):\n",
    "    # Create a new empty df exactly before, which we will append the rows which never were stored in the database (for the first time, all records will be stored here since there are any records)\n",
    "    new_videos_df = pd.DataFrame(columns=[\"video_id\",\"video_title\",\"upload_date\",\"view_count\",\"like_count\",\"comment_count\"])\n",
    "\n",
    "    for i, row in df.iterrows():\n",
    "        if check_video_exists(curr, row['video_id']): #if it is true, it will run the update_row function to refresh the view, like and comment counts\n",
    "            update_row(curr, row['video_id'], row['view_count'], row['like_count'], row['comment_count'])\n",
    "        else: #if the video does not exist, it will append to the db table\n",
    "            new_videos_df = new_videos_df.append(row)\n",
    "    \n",
    "    return new_videos_df"
   ]
  },
  {
   "cell_type": "code",
   "execution_count": 38,
   "id": "a9a91207",
   "metadata": {},
   "outputs": [],
   "source": [
    "new_videos_df = update_database(curr, df)"
   ]
  },
  {
   "cell_type": "code",
   "execution_count": 39,
   "id": "207ebbae",
   "metadata": {},
   "outputs": [
    {
     "data": {
      "text/plain": [
       "(420, 6)"
      ]
     },
     "execution_count": 39,
     "metadata": {},
     "output_type": "execute_result"
    }
   ],
   "source": [
    "#as expected, all the records were appended to the new empty df because there is no records in the database so far.\n",
    "new_videos_df.shape"
   ]
  },
  {
   "cell_type": "code",
   "execution_count": 41,
   "id": "1f5e4790",
   "metadata": {},
   "outputs": [],
   "source": [
    "#Defing the function to insert new records to the table database\n",
    "\n",
    "def insert_new_videos(curr, video_id, video_title, upload_date, view_count, like_count, comment_count):\n",
    "    query_insert_new_videos = ('''INSERT INTO youtube_videos_freecodecamp\n",
    "                                (video_id, video_title, upload_date, view_count, like_count, comment_count)\n",
    "                                VALUES (%s, %s, %s, %s, %s, %s);''')\n",
    "\n",
    "    variables_insert = (video_id, video_title, upload_date, view_count, like_count, comment_count)\n",
    "    curr.execute(query_insert_new_videos, variables_insert)"
   ]
  },
  {
   "cell_type": "code",
   "execution_count": 42,
   "id": "30e25197",
   "metadata": {},
   "outputs": [],
   "source": [
    "#Creating the function to go row by row in order to insert the new records\n",
    "\n",
    "def append_from_df_to_db(curr, df):\n",
    "    for i, row in df.iterrows():\n",
    "        insert_new_videos(curr, row['video_id'], row['video_title'], row['upload_date'], row['view_count'], row['like_count'], row['comment_count'])"
   ]
  },
  {
   "cell_type": "markdown",
   "id": "1a42e37c",
   "metadata": {},
   "source": [
    "#### Calling the function to append the new_videos_df to the database table."
   ]
  },
  {
   "cell_type": "code",
   "execution_count": 43,
   "id": "dc468b91",
   "metadata": {},
   "outputs": [
    {
     "data": {
      "text/html": [
       "<div>\n",
       "<style scoped>\n",
       "    .dataframe tbody tr th:only-of-type {\n",
       "        vertical-align: middle;\n",
       "    }\n",
       "\n",
       "    .dataframe tbody tr th {\n",
       "        vertical-align: top;\n",
       "    }\n",
       "\n",
       "    .dataframe thead th {\n",
       "        text-align: right;\n",
       "    }\n",
       "</style>\n",
       "<table border=\"1\" class=\"dataframe\">\n",
       "  <thead>\n",
       "    <tr style=\"text-align: right;\">\n",
       "      <th></th>\n",
       "      <th>video_id</th>\n",
       "      <th>video_title</th>\n",
       "      <th>upload_date</th>\n",
       "      <th>view_count</th>\n",
       "      <th>like_count</th>\n",
       "      <th>comment_count</th>\n",
       "    </tr>\n",
       "  </thead>\n",
       "  <tbody>\n",
       "    <tr>\n",
       "      <th>5</th>\n",
       "      <td>47NRaBVxgVM</td>\n",
       "      <td>Internet History, Technology, and Security - F...</td>\n",
       "      <td>2021-12-20</td>\n",
       "      <td>125073</td>\n",
       "      <td>4886</td>\n",
       "      <td>177</td>\n",
       "    </tr>\n",
       "    <tr>\n",
       "      <th>50</th>\n",
       "      <td>j7VZsCCnptM</td>\n",
       "      <td>Selenium Course for Beginners - Web Scraping B...</td>\n",
       "      <td>2021-08-31</td>\n",
       "      <td>177982</td>\n",
       "      <td>5207</td>\n",
       "      <td>186</td>\n",
       "    </tr>\n",
       "    <tr>\n",
       "      <th>65</th>\n",
       "      <td>K2qjAixgLqk</td>\n",
       "      <td>Reinforcement Learning Course: Intro to Advanc...</td>\n",
       "      <td>2021-07-30</td>\n",
       "      <td>46673</td>\n",
       "      <td>1318</td>\n",
       "      <td>46</td>\n",
       "    </tr>\n",
       "    <tr>\n",
       "      <th>115</th>\n",
       "      <td>0B5eIE_1vpU</td>\n",
       "      <td>Scikit-learn Crash Course - Machine Learning L...</td>\n",
       "      <td>2021-04-07</td>\n",
       "      <td>86285</td>\n",
       "      <td>2886</td>\n",
       "      <td>99</td>\n",
       "    </tr>\n",
       "    <tr>\n",
       "      <th>145</th>\n",
       "      <td>sfmL6bGbiN8</td>\n",
       "      <td>Build a Shopping Cart with React and TypeScrip...</td>\n",
       "      <td>2021-01-21</td>\n",
       "      <td>129253</td>\n",
       "      <td>3736</td>\n",
       "      <td>183</td>\n",
       "    </tr>\n",
       "  </tbody>\n",
       "</table>\n",
       "</div>"
      ],
      "text/plain": [
       "        video_id                                        video_title  \\\n",
       "5    47NRaBVxgVM  Internet History, Technology, and Security - F...   \n",
       "50   j7VZsCCnptM  Selenium Course for Beginners - Web Scraping B...   \n",
       "65   K2qjAixgLqk  Reinforcement Learning Course: Intro to Advanc...   \n",
       "115  0B5eIE_1vpU  Scikit-learn Crash Course - Machine Learning L...   \n",
       "145  sfmL6bGbiN8  Build a Shopping Cart with React and TypeScrip...   \n",
       "\n",
       "    upload_date view_count like_count comment_count  \n",
       "5    2021-12-20     125073       4886           177  \n",
       "50   2021-08-31     177982       5207           186  \n",
       "65   2021-07-30      46673       1318            46  \n",
       "115  2021-04-07      86285       2886            99  \n",
       "145  2021-01-21     129253       3736           183  "
      ]
     },
     "execution_count": 43,
     "metadata": {},
     "output_type": "execute_result"
    }
   ],
   "source": [
    "#Since I defined video_id as PRIMARY KEY and I extracted some duplicated videos from the API call, I must drop them.\n",
    "\n",
    "new_videos_df[new_videos_df.duplicated(['video_id'], keep = 'first')].head()"
   ]
  },
  {
   "cell_type": "code",
   "execution_count": 44,
   "id": "92e2a115",
   "metadata": {},
   "outputs": [
    {
     "data": {
      "text/html": [
       "<div>\n",
       "<style scoped>\n",
       "    .dataframe tbody tr th:only-of-type {\n",
       "        vertical-align: middle;\n",
       "    }\n",
       "\n",
       "    .dataframe tbody tr th {\n",
       "        vertical-align: top;\n",
       "    }\n",
       "\n",
       "    .dataframe thead th {\n",
       "        text-align: right;\n",
       "    }\n",
       "</style>\n",
       "<table border=\"1\" class=\"dataframe\">\n",
       "  <thead>\n",
       "    <tr style=\"text-align: right;\">\n",
       "      <th></th>\n",
       "      <th>video_id</th>\n",
       "      <th>video_title</th>\n",
       "      <th>upload_date</th>\n",
       "      <th>view_count</th>\n",
       "      <th>like_count</th>\n",
       "      <th>comment_count</th>\n",
       "    </tr>\n",
       "  </thead>\n",
       "  <tbody>\n",
       "    <tr>\n",
       "      <th>4</th>\n",
       "      <td>47NRaBVxgVM</td>\n",
       "      <td>Internet History, Technology, and Security - F...</td>\n",
       "      <td>2021-12-20</td>\n",
       "      <td>125070</td>\n",
       "      <td>4886</td>\n",
       "      <td>177</td>\n",
       "    </tr>\n",
       "    <tr>\n",
       "      <th>5</th>\n",
       "      <td>47NRaBVxgVM</td>\n",
       "      <td>Internet History, Technology, and Security - F...</td>\n",
       "      <td>2021-12-20</td>\n",
       "      <td>125073</td>\n",
       "      <td>4886</td>\n",
       "      <td>177</td>\n",
       "    </tr>\n",
       "  </tbody>\n",
       "</table>\n",
       "</div>"
      ],
      "text/plain": [
       "      video_id                                        video_title upload_date  \\\n",
       "4  47NRaBVxgVM  Internet History, Technology, and Security - F...  2021-12-20   \n",
       "5  47NRaBVxgVM  Internet History, Technology, and Security - F...  2021-12-20   \n",
       "\n",
       "  view_count like_count comment_count  \n",
       "4     125070       4886           177  \n",
       "5     125073       4886           177  "
      ]
     },
     "execution_count": 44,
     "metadata": {},
     "output_type": "execute_result"
    }
   ],
   "source": [
    "df.loc[df['video_id'] == '47NRaBVxgVM']"
   ]
  },
  {
   "cell_type": "code",
   "execution_count": 45,
   "id": "da1eefed",
   "metadata": {},
   "outputs": [],
   "source": [
    "def drop_duplicates(df):\n",
    "    \n",
    "    if df[df.duplicated(['video_id'], keep = 'first')] is not None:\n",
    "        df.drop_duplicates(subset=['video_id'], keep=\"first\", inplace=True)\n",
    "    \n",
    "    return df"
   ]
  },
  {
   "cell_type": "code",
   "execution_count": 46,
   "id": "687806f8",
   "metadata": {},
   "outputs": [],
   "source": [
    "new_videos_df = drop_duplicates(new_videos_df)"
   ]
  },
  {
   "cell_type": "code",
   "execution_count": 47,
   "id": "12e1c1d2",
   "metadata": {},
   "outputs": [
    {
     "data": {
      "text/plain": [
       "(401, 6)"
      ]
     },
     "execution_count": 47,
     "metadata": {},
     "output_type": "execute_result"
    }
   ],
   "source": [
    "new_videos_df.shape"
   ]
  },
  {
   "cell_type": "code",
   "execution_count": 48,
   "id": "92ae8ed5",
   "metadata": {},
   "outputs": [],
   "source": [
    "append_from_df_to_db(curr, new_videos_df)"
   ]
  },
  {
   "cell_type": "code",
   "execution_count": 49,
   "id": "b0ea07ae",
   "metadata": {},
   "outputs": [],
   "source": [
    "conn.commit()"
   ]
  },
  {
   "cell_type": "markdown",
   "id": "e988203e",
   "metadata": {},
   "source": [
    "#### Load the database table to df in order to:\n",
    "- Manipulate and do some analysis"
   ]
  },
  {
   "cell_type": "code",
   "execution_count": 387,
   "id": "d8ab3b3d",
   "metadata": {},
   "outputs": [],
   "source": [
    "import pandas as pd\n",
    "import numpy as np\n",
    "import matplotlib.pyplot as plt\n",
    "import seaborn as sns\n",
    "import os"
   ]
  },
  {
   "cell_type": "code",
   "execution_count": 164,
   "id": "100f2e6b",
   "metadata": {},
   "outputs": [],
   "source": [
    "videos_df = pd.read_sql('SELECT * FROM youtube_videos_freecodecamp', con=conn)"
   ]
  },
  {
   "cell_type": "code",
   "execution_count": 165,
   "id": "1fafb57c",
   "metadata": {},
   "outputs": [
    {
     "data": {
      "text/html": [
       "<div>\n",
       "<style scoped>\n",
       "    .dataframe tbody tr th:only-of-type {\n",
       "        vertical-align: middle;\n",
       "    }\n",
       "\n",
       "    .dataframe tbody tr th {\n",
       "        vertical-align: top;\n",
       "    }\n",
       "\n",
       "    .dataframe thead th {\n",
       "        text-align: right;\n",
       "    }\n",
       "</style>\n",
       "<table border=\"1\" class=\"dataframe\">\n",
       "  <thead>\n",
       "    <tr style=\"text-align: right;\">\n",
       "      <th></th>\n",
       "      <th>video_id</th>\n",
       "      <th>video_title</th>\n",
       "      <th>upload_date</th>\n",
       "      <th>view_count</th>\n",
       "      <th>like_count</th>\n",
       "      <th>comment_count</th>\n",
       "    </tr>\n",
       "  </thead>\n",
       "  <tbody>\n",
       "    <tr>\n",
       "      <th>0</th>\n",
       "      <td>jwCmIBJ8Jtc</td>\n",
       "      <td>Figma Tutorial for UI Design - Course for Begi...</td>\n",
       "      <td>2022-01-05</td>\n",
       "      <td>55000</td>\n",
       "      <td>2488</td>\n",
       "      <td>151</td>\n",
       "    </tr>\n",
       "    <tr>\n",
       "      <th>1</th>\n",
       "      <td>025QFeZfeyM</td>\n",
       "      <td>Code a 2D Game Engine using Java - Full Course...</td>\n",
       "      <td>2022-01-03</td>\n",
       "      <td>139575</td>\n",
       "      <td>6315</td>\n",
       "      <td>424</td>\n",
       "    </tr>\n",
       "    <tr>\n",
       "      <th>2</th>\n",
       "      <td>b_IDdQzPRR4</td>\n",
       "      <td>Learn to Code RPG - A freeCodeCamp.org Game [p...</td>\n",
       "      <td>2021-12-22</td>\n",
       "      <td>122505</td>\n",
       "      <td>3206</td>\n",
       "      <td>98</td>\n",
       "    </tr>\n",
       "    <tr>\n",
       "      <th>3</th>\n",
       "      <td>erka8USiBgM</td>\n",
       "      <td>Build a CRM with Google Sheets + PostgreSQL + ...</td>\n",
       "      <td>2021-12-21</td>\n",
       "      <td>278634</td>\n",
       "      <td>6558</td>\n",
       "      <td>262</td>\n",
       "    </tr>\n",
       "    <tr>\n",
       "      <th>4</th>\n",
       "      <td>47NRaBVxgVM</td>\n",
       "      <td>Internet History, Technology, and Security - F...</td>\n",
       "      <td>2021-12-20</td>\n",
       "      <td>125070</td>\n",
       "      <td>4886</td>\n",
       "      <td>177</td>\n",
       "    </tr>\n",
       "  </tbody>\n",
       "</table>\n",
       "</div>"
      ],
      "text/plain": [
       "      video_id                                        video_title upload_date  \\\n",
       "0  jwCmIBJ8Jtc  Figma Tutorial for UI Design - Course for Begi...  2022-01-05   \n",
       "1  025QFeZfeyM  Code a 2D Game Engine using Java - Full Course...  2022-01-03   \n",
       "2  b_IDdQzPRR4  Learn to Code RPG - A freeCodeCamp.org Game [p...  2021-12-22   \n",
       "3  erka8USiBgM  Build a CRM with Google Sheets + PostgreSQL + ...  2021-12-21   \n",
       "4  47NRaBVxgVM  Internet History, Technology, and Security - F...  2021-12-20   \n",
       "\n",
       "   view_count  like_count  comment_count  \n",
       "0       55000        2488            151  \n",
       "1      139575        6315            424  \n",
       "2      122505        3206             98  \n",
       "3      278634        6558            262  \n",
       "4      125070        4886            177  "
      ]
     },
     "execution_count": 165,
     "metadata": {},
     "output_type": "execute_result"
    }
   ],
   "source": [
    "videos_df.head()"
   ]
  },
  {
   "cell_type": "code",
   "execution_count": 388,
   "id": "fbc3879b",
   "metadata": {},
   "outputs": [],
   "source": [
    "# Creating the images folder for saving the graphs later\n",
    "\n",
    "image_path = './images/'\n",
    "if not os.path.exists(image_path):\n",
    "    os.makedirs(image_path)"
   ]
  },
  {
   "cell_type": "markdown",
   "id": "537aeeda",
   "metadata": {},
   "source": [
    "#### Let's visualize the average view in the youtube videos by month and year"
   ]
  },
  {
   "cell_type": "code",
   "execution_count": 166,
   "id": "f381b064",
   "metadata": {},
   "outputs": [],
   "source": [
    "videos_df['Month'] = pd.to_datetime(videos_df['upload_date']).dt.strftime('%b')\n",
    "videos_df['Year'] = pd.to_datetime(videos_df['upload_date']).dt.strftime('%Y')"
   ]
  },
  {
   "cell_type": "code",
   "execution_count": 167,
   "id": "08ae263d",
   "metadata": {},
   "outputs": [
    {
     "data": {
      "text/html": [
       "<div>\n",
       "<style scoped>\n",
       "    .dataframe tbody tr th:only-of-type {\n",
       "        vertical-align: middle;\n",
       "    }\n",
       "\n",
       "    .dataframe tbody tr th {\n",
       "        vertical-align: top;\n",
       "    }\n",
       "\n",
       "    .dataframe thead th {\n",
       "        text-align: right;\n",
       "    }\n",
       "</style>\n",
       "<table border=\"1\" class=\"dataframe\">\n",
       "  <thead>\n",
       "    <tr style=\"text-align: right;\">\n",
       "      <th></th>\n",
       "      <th>video_id</th>\n",
       "      <th>video_title</th>\n",
       "      <th>upload_date</th>\n",
       "      <th>view_count</th>\n",
       "      <th>like_count</th>\n",
       "      <th>comment_count</th>\n",
       "      <th>Month</th>\n",
       "      <th>Year</th>\n",
       "    </tr>\n",
       "  </thead>\n",
       "  <tbody>\n",
       "    <tr>\n",
       "      <th>0</th>\n",
       "      <td>jwCmIBJ8Jtc</td>\n",
       "      <td>Figma Tutorial for UI Design - Course for Begi...</td>\n",
       "      <td>2022-01-05</td>\n",
       "      <td>55000</td>\n",
       "      <td>2488</td>\n",
       "      <td>151</td>\n",
       "      <td>Jan</td>\n",
       "      <td>2022</td>\n",
       "    </tr>\n",
       "    <tr>\n",
       "      <th>1</th>\n",
       "      <td>025QFeZfeyM</td>\n",
       "      <td>Code a 2D Game Engine using Java - Full Course...</td>\n",
       "      <td>2022-01-03</td>\n",
       "      <td>139575</td>\n",
       "      <td>6315</td>\n",
       "      <td>424</td>\n",
       "      <td>Jan</td>\n",
       "      <td>2022</td>\n",
       "    </tr>\n",
       "    <tr>\n",
       "      <th>2</th>\n",
       "      <td>b_IDdQzPRR4</td>\n",
       "      <td>Learn to Code RPG - A freeCodeCamp.org Game [p...</td>\n",
       "      <td>2021-12-22</td>\n",
       "      <td>122505</td>\n",
       "      <td>3206</td>\n",
       "      <td>98</td>\n",
       "      <td>Dec</td>\n",
       "      <td>2021</td>\n",
       "    </tr>\n",
       "    <tr>\n",
       "      <th>3</th>\n",
       "      <td>erka8USiBgM</td>\n",
       "      <td>Build a CRM with Google Sheets + PostgreSQL + ...</td>\n",
       "      <td>2021-12-21</td>\n",
       "      <td>278634</td>\n",
       "      <td>6558</td>\n",
       "      <td>262</td>\n",
       "      <td>Dec</td>\n",
       "      <td>2021</td>\n",
       "    </tr>\n",
       "    <tr>\n",
       "      <th>4</th>\n",
       "      <td>47NRaBVxgVM</td>\n",
       "      <td>Internet History, Technology, and Security - F...</td>\n",
       "      <td>2021-12-20</td>\n",
       "      <td>125070</td>\n",
       "      <td>4886</td>\n",
       "      <td>177</td>\n",
       "      <td>Dec</td>\n",
       "      <td>2021</td>\n",
       "    </tr>\n",
       "  </tbody>\n",
       "</table>\n",
       "</div>"
      ],
      "text/plain": [
       "      video_id                                        video_title upload_date  \\\n",
       "0  jwCmIBJ8Jtc  Figma Tutorial for UI Design - Course for Begi...  2022-01-05   \n",
       "1  025QFeZfeyM  Code a 2D Game Engine using Java - Full Course...  2022-01-03   \n",
       "2  b_IDdQzPRR4  Learn to Code RPG - A freeCodeCamp.org Game [p...  2021-12-22   \n",
       "3  erka8USiBgM  Build a CRM with Google Sheets + PostgreSQL + ...  2021-12-21   \n",
       "4  47NRaBVxgVM  Internet History, Technology, and Security - F...  2021-12-20   \n",
       "\n",
       "   view_count  like_count  comment_count Month  Year  \n",
       "0       55000        2488            151   Jan  2022  \n",
       "1      139575        6315            424   Jan  2022  \n",
       "2      122505        3206             98   Dec  2021  \n",
       "3      278634        6558            262   Dec  2021  \n",
       "4      125070        4886            177   Dec  2021  "
      ]
     },
     "execution_count": 167,
     "metadata": {},
     "output_type": "execute_result"
    }
   ],
   "source": [
    "videos_df.head()"
   ]
  },
  {
   "cell_type": "code",
   "execution_count": 168,
   "id": "cb11515b",
   "metadata": {},
   "outputs": [
    {
     "data": {
      "text/html": [
       "<div>\n",
       "<style scoped>\n",
       "    .dataframe tbody tr th:only-of-type {\n",
       "        vertical-align: middle;\n",
       "    }\n",
       "\n",
       "    .dataframe tbody tr th {\n",
       "        vertical-align: top;\n",
       "    }\n",
       "\n",
       "    .dataframe thead th {\n",
       "        text-align: right;\n",
       "    }\n",
       "</style>\n",
       "<table border=\"1\" class=\"dataframe\">\n",
       "  <thead>\n",
       "    <tr style=\"text-align: right;\">\n",
       "      <th></th>\n",
       "      <th>Year</th>\n",
       "      <th>size</th>\n",
       "    </tr>\n",
       "  </thead>\n",
       "  <tbody>\n",
       "    <tr>\n",
       "      <th>0</th>\n",
       "      <td>2017</td>\n",
       "      <td>1</td>\n",
       "    </tr>\n",
       "    <tr>\n",
       "      <th>1</th>\n",
       "      <td>2018</td>\n",
       "      <td>56</td>\n",
       "    </tr>\n",
       "    <tr>\n",
       "      <th>2</th>\n",
       "      <td>2019</td>\n",
       "      <td>77</td>\n",
       "    </tr>\n",
       "    <tr>\n",
       "      <th>3</th>\n",
       "      <td>2020</td>\n",
       "      <td>122</td>\n",
       "    </tr>\n",
       "    <tr>\n",
       "      <th>4</th>\n",
       "      <td>2021</td>\n",
       "      <td>143</td>\n",
       "    </tr>\n",
       "    <tr>\n",
       "      <th>5</th>\n",
       "      <td>2022</td>\n",
       "      <td>2</td>\n",
       "    </tr>\n",
       "  </tbody>\n",
       "</table>\n",
       "</div>"
      ],
      "text/plain": [
       "   Year  size\n",
       "0  2017     1\n",
       "1  2018    56\n",
       "2  2019    77\n",
       "3  2020   122\n",
       "4  2021   143\n",
       "5  2022     2"
      ]
     },
     "execution_count": 168,
     "metadata": {},
     "output_type": "execute_result"
    }
   ],
   "source": [
    "videos_per_year = videos_df.groupby('Year', as_index=False).size()\n",
    "videos_per_year"
   ]
  },
  {
   "cell_type": "code",
   "execution_count": 169,
   "id": "a057fa31",
   "metadata": {},
   "outputs": [
    {
     "data": {
      "image/png": "[encoded data removed]",
      "text/plain": [
       "<Figure size 432x288 with 1 Axes>"
      ]
     },
     "metadata": {
      "needs_background": "light"
     },
     "output_type": "display_data"
    }
   ],
   "source": [
    "ax = sns.barplot(x='Year', y='size', data = videos_per_year)"
   ]
  },
  {
   "cell_type": "code",
   "execution_count": 170,
   "id": "24241827",
   "metadata": {},
   "outputs": [],
   "source": [
    "#As it extracted only 1 video in 2017 and there are only 2 videos in 2022 so far, I will remove them\n",
    "new_videos_df = videos_df[(videos_df['Year'] != '2017') & (videos_df['Year'] != '2022')]"
   ]
  },
  {
   "cell_type": "code",
   "execution_count": 171,
   "id": "5fde2ae5",
   "metadata": {},
   "outputs": [
    {
     "data": {
      "text/plain": [
       "array(['2021', '2020', '2019', '2018'], dtype=object)"
      ]
     },
     "execution_count": 171,
     "metadata": {},
     "output_type": "execute_result"
    }
   ],
   "source": [
    "new_videos_df['Year'].unique()"
   ]
  },
  {
   "cell_type": "code",
   "execution_count": 172,
   "id": "fcf0d89a",
   "metadata": {},
   "outputs": [
    {
     "data": {
      "text/html": [
       "<div>\n",
       "<style scoped>\n",
       "    .dataframe tbody tr th:only-of-type {\n",
       "        vertical-align: middle;\n",
       "    }\n",
       "\n",
       "    .dataframe tbody tr th {\n",
       "        vertical-align: top;\n",
       "    }\n",
       "\n",
       "    .dataframe thead th {\n",
       "        text-align: right;\n",
       "    }\n",
       "</style>\n",
       "<table border=\"1\" class=\"dataframe\">\n",
       "  <thead>\n",
       "    <tr style=\"text-align: right;\">\n",
       "      <th></th>\n",
       "      <th>video_id</th>\n",
       "      <th>video_title</th>\n",
       "      <th>upload_date</th>\n",
       "      <th>view_count</th>\n",
       "      <th>like_count</th>\n",
       "      <th>comment_count</th>\n",
       "      <th>Month</th>\n",
       "      <th>Year</th>\n",
       "    </tr>\n",
       "  </thead>\n",
       "  <tbody>\n",
       "    <tr>\n",
       "      <th>2</th>\n",
       "      <td>b_IDdQzPRR4</td>\n",
       "      <td>Learn to Code RPG - A freeCodeCamp.org Game [p...</td>\n",
       "      <td>2021-12-22</td>\n",
       "      <td>122505</td>\n",
       "      <td>3206</td>\n",
       "      <td>98</td>\n",
       "      <td>Dec</td>\n",
       "      <td>2021</td>\n",
       "    </tr>\n",
       "    <tr>\n",
       "      <th>3</th>\n",
       "      <td>erka8USiBgM</td>\n",
       "      <td>Build a CRM with Google Sheets + PostgreSQL + ...</td>\n",
       "      <td>2021-12-21</td>\n",
       "      <td>278634</td>\n",
       "      <td>6558</td>\n",
       "      <td>262</td>\n",
       "      <td>Dec</td>\n",
       "      <td>2021</td>\n",
       "    </tr>\n",
       "    <tr>\n",
       "      <th>4</th>\n",
       "      <td>47NRaBVxgVM</td>\n",
       "      <td>Internet History, Technology, and Security - F...</td>\n",
       "      <td>2021-12-20</td>\n",
       "      <td>125070</td>\n",
       "      <td>4886</td>\n",
       "      <td>177</td>\n",
       "      <td>Dec</td>\n",
       "      <td>2021</td>\n",
       "    </tr>\n",
       "    <tr>\n",
       "      <th>5</th>\n",
       "      <td>Hj_rA0dhr2I</td>\n",
       "      <td>Linked Lists for Technical Interviews - Full C...</td>\n",
       "      <td>2021-12-15</td>\n",
       "      <td>78153</td>\n",
       "      <td>2502</td>\n",
       "      <td>76</td>\n",
       "      <td>Dec</td>\n",
       "      <td>2021</td>\n",
       "    </tr>\n",
       "    <tr>\n",
       "      <th>6</th>\n",
       "      <td>F5KJVuii0Yw</td>\n",
       "      <td>Web App Vulnerabilities - DevSecOps Course for...</td>\n",
       "      <td>2021-12-14</td>\n",
       "      <td>76590</td>\n",
       "      <td>2589</td>\n",
       "      <td>51</td>\n",
       "      <td>Dec</td>\n",
       "      <td>2021</td>\n",
       "    </tr>\n",
       "  </tbody>\n",
       "</table>\n",
       "</div>"
      ],
      "text/plain": [
       "      video_id                                        video_title upload_date  \\\n",
       "2  b_IDdQzPRR4  Learn to Code RPG - A freeCodeCamp.org Game [p...  2021-12-22   \n",
       "3  erka8USiBgM  Build a CRM with Google Sheets + PostgreSQL + ...  2021-12-21   \n",
       "4  47NRaBVxgVM  Internet History, Technology, and Security - F...  2021-12-20   \n",
       "5  Hj_rA0dhr2I  Linked Lists for Technical Interviews - Full C...  2021-12-15   \n",
       "6  F5KJVuii0Yw  Web App Vulnerabilities - DevSecOps Course for...  2021-12-14   \n",
       "\n",
       "   view_count  like_count  comment_count Month  Year  \n",
       "2      122505        3206             98   Dec  2021  \n",
       "3      278634        6558            262   Dec  2021  \n",
       "4      125070        4886            177   Dec  2021  \n",
       "5       78153        2502             76   Dec  2021  \n",
       "6       76590        2589             51   Dec  2021  "
      ]
     },
     "execution_count": 172,
     "metadata": {},
     "output_type": "execute_result"
    }
   ],
   "source": [
    "new_videos_df.head()"
   ]
  },
  {
   "cell_type": "code",
   "execution_count": 173,
   "id": "69e4d2d6",
   "metadata": {},
   "outputs": [],
   "source": [
    "sort_order = [\"Jan\", \"Feb\", \"Mar\", \"Apr\", \"May\", \"Jun\", \"Jul\", \"Aug\", \"Sep\", \"Oct\", \"Nov\", \"Dec\"]"
   ]
  },
  {
   "cell_type": "code",
   "execution_count": 174,
   "id": "29e5fbc1",
   "metadata": {},
   "outputs": [],
   "source": [
    "new_videos_df.index = pd.CategoricalIndex(new_videos_df['Month'], categories=sort_order, ordered=True)"
   ]
  },
  {
   "cell_type": "code",
   "execution_count": 175,
   "id": "6e0e00ce",
   "metadata": {},
   "outputs": [],
   "source": [
    "new_videos_df = new_videos_df.sort_index()"
   ]
  },
  {
   "cell_type": "code",
   "execution_count": 176,
   "id": "0a53e770",
   "metadata": {},
   "outputs": [
    {
     "data": {
      "text/html": [
       "<div>\n",
       "<style scoped>\n",
       "    .dataframe tbody tr th:only-of-type {\n",
       "        vertical-align: middle;\n",
       "    }\n",
       "\n",
       "    .dataframe tbody tr th {\n",
       "        vertical-align: top;\n",
       "    }\n",
       "\n",
       "    .dataframe thead th {\n",
       "        text-align: right;\n",
       "    }\n",
       "</style>\n",
       "<table border=\"1\" class=\"dataframe\">\n",
       "  <thead>\n",
       "    <tr style=\"text-align: right;\">\n",
       "      <th></th>\n",
       "      <th>video_id</th>\n",
       "      <th>video_title</th>\n",
       "      <th>upload_date</th>\n",
       "      <th>view_count</th>\n",
       "      <th>like_count</th>\n",
       "      <th>comment_count</th>\n",
       "      <th>Month</th>\n",
       "      <th>Year</th>\n",
       "    </tr>\n",
       "    <tr>\n",
       "      <th>Month</th>\n",
       "      <th></th>\n",
       "      <th></th>\n",
       "      <th></th>\n",
       "      <th></th>\n",
       "      <th></th>\n",
       "      <th></th>\n",
       "      <th></th>\n",
       "      <th></th>\n",
       "    </tr>\n",
       "  </thead>\n",
       "  <tbody>\n",
       "    <tr>\n",
       "      <th>Jan</th>\n",
       "      <td>0Cvi6PBVS_U</td>\n",
       "      <td>Creating a Material Design Style Homepage (P5D...</td>\n",
       "      <td>2018-01-03</td>\n",
       "      <td>4115</td>\n",
       "      <td>85</td>\n",
       "      <td>0</td>\n",
       "      <td>Jan</td>\n",
       "      <td>2018</td>\n",
       "    </tr>\n",
       "    <tr>\n",
       "      <th>Jan</th>\n",
       "      <td>F0WoVEr0-44</td>\n",
       "      <td>Computational Thinking &amp;amp; Scratch - Intro t...</td>\n",
       "      <td>2019-01-22</td>\n",
       "      <td>463257</td>\n",
       "      <td>8621</td>\n",
       "      <td>268</td>\n",
       "      <td>Jan</td>\n",
       "      <td>2019</td>\n",
       "    </tr>\n",
       "    <tr>\n",
       "      <th>Jan</th>\n",
       "      <td>ix5jPkxsr7M</td>\n",
       "      <td>C Programming Language - Intro to Computer Sci...</td>\n",
       "      <td>2019-01-23</td>\n",
       "      <td>519336</td>\n",
       "      <td>13153</td>\n",
       "      <td>385</td>\n",
       "      <td>Jan</td>\n",
       "      <td>2019</td>\n",
       "    </tr>\n",
       "    <tr>\n",
       "      <th>Jan</th>\n",
       "      <td>mudOTSUumXg</td>\n",
       "      <td>HTTP, HTML, CSS - Intro to Computer Science - ...</td>\n",
       "      <td>2019-01-27</td>\n",
       "      <td>118882</td>\n",
       "      <td>3126</td>\n",
       "      <td>95</td>\n",
       "      <td>Jan</td>\n",
       "      <td>2019</td>\n",
       "    </tr>\n",
       "    <tr>\n",
       "      <th>Jan</th>\n",
       "      <td>TPMlZxRRaBQ</td>\n",
       "      <td>Tableau for Data Science and Data Visualizatio...</td>\n",
       "      <td>2019-01-29</td>\n",
       "      <td>506464</td>\n",
       "      <td>7504</td>\n",
       "      <td>154</td>\n",
       "      <td>Jan</td>\n",
       "      <td>2019</td>\n",
       "    </tr>\n",
       "  </tbody>\n",
       "</table>\n",
       "</div>"
      ],
      "text/plain": [
       "          video_id                                        video_title  \\\n",
       "Month                                                                   \n",
       "Jan    0Cvi6PBVS_U  Creating a Material Design Style Homepage (P5D...   \n",
       "Jan    F0WoVEr0-44  Computational Thinking &amp; Scratch - Intro t...   \n",
       "Jan    ix5jPkxsr7M  C Programming Language - Intro to Computer Sci...   \n",
       "Jan    mudOTSUumXg  HTTP, HTML, CSS - Intro to Computer Science - ...   \n",
       "Jan    TPMlZxRRaBQ  Tableau for Data Science and Data Visualizatio...   \n",
       "\n",
       "      upload_date  view_count  like_count  comment_count Month  Year  \n",
       "Month                                                                 \n",
       "Jan    2018-01-03        4115          85              0   Jan  2018  \n",
       "Jan    2019-01-22      463257        8621            268   Jan  2019  \n",
       "Jan    2019-01-23      519336       13153            385   Jan  2019  \n",
       "Jan    2019-01-27      118882        3126             95   Jan  2019  \n",
       "Jan    2019-01-29      506464        7504            154   Jan  2019  "
      ]
     },
     "execution_count": 176,
     "metadata": {},
     "output_type": "execute_result"
    }
   ],
   "source": [
    "new_videos_df.head()"
   ]
  },
  {
   "cell_type": "code",
   "execution_count": 179,
   "id": "2ef39790",
   "metadata": {},
   "outputs": [],
   "source": [
    "videos_df_pivot = pd.pivot_table(\n",
    "            new_videos_df,\n",
    "            values = 'view_count',\n",
    "            index = 'Year',\n",
    "            columns = new_videos_df.index,\n",
    "            aggfunc=np.mean\n",
    "        )"
   ]
  },
  {
   "cell_type": "code",
   "execution_count": 180,
   "id": "9471c5be",
   "metadata": {},
   "outputs": [
    {
     "data": {
      "text/html": [
       "<div>\n",
       "<style scoped>\n",
       "    .dataframe tbody tr th:only-of-type {\n",
       "        vertical-align: middle;\n",
       "    }\n",
       "\n",
       "    .dataframe tbody tr th {\n",
       "        vertical-align: top;\n",
       "    }\n",
       "\n",
       "    .dataframe thead th {\n",
       "        text-align: right;\n",
       "    }\n",
       "</style>\n",
       "<table border=\"1\" class=\"dataframe\">\n",
       "  <thead>\n",
       "    <tr style=\"text-align: right;\">\n",
       "      <th>Month</th>\n",
       "      <th>Jan</th>\n",
       "      <th>Feb</th>\n",
       "      <th>Mar</th>\n",
       "      <th>Apr</th>\n",
       "      <th>May</th>\n",
       "      <th>Jun</th>\n",
       "      <th>Jul</th>\n",
       "      <th>Aug</th>\n",
       "      <th>Sep</th>\n",
       "      <th>Oct</th>\n",
       "      <th>Nov</th>\n",
       "      <th>Dec</th>\n",
       "    </tr>\n",
       "    <tr>\n",
       "      <th>Year</th>\n",
       "      <th></th>\n",
       "      <th></th>\n",
       "      <th></th>\n",
       "      <th></th>\n",
       "      <th></th>\n",
       "      <th></th>\n",
       "      <th></th>\n",
       "      <th></th>\n",
       "      <th></th>\n",
       "      <th></th>\n",
       "      <th></th>\n",
       "      <th></th>\n",
       "    </tr>\n",
       "  </thead>\n",
       "  <tbody>\n",
       "    <tr>\n",
       "      <th>2018</th>\n",
       "      <td>4115.000000</td>\n",
       "      <td>3624.0</td>\n",
       "      <td>2471.000000</td>\n",
       "      <td>1.561539e+06</td>\n",
       "      <td>2.675200e+04</td>\n",
       "      <td>513636.571429</td>\n",
       "      <td>7.451566e+06</td>\n",
       "      <td>3.366304e+06</td>\n",
       "      <td>6.318586e+05</td>\n",
       "      <td>99491.400000</td>\n",
       "      <td>49007.333333</td>\n",
       "      <td>1.512537e+06</td>\n",
       "    </tr>\n",
       "    <tr>\n",
       "      <th>2019</th>\n",
       "      <td>292081.250000</td>\n",
       "      <td>129751.5</td>\n",
       "      <td>360658.571429</td>\n",
       "      <td>1.053574e+06</td>\n",
       "      <td>1.337864e+06</td>\n",
       "      <td>953851.125000</td>\n",
       "      <td>1.221787e+06</td>\n",
       "      <td>7.186030e+05</td>\n",
       "      <td>1.215923e+06</td>\n",
       "      <td>867665.000000</td>\n",
       "      <td>661792.000000</td>\n",
       "      <td>1.649925e+06</td>\n",
       "    </tr>\n",
       "    <tr>\n",
       "      <th>2020</th>\n",
       "      <td>NaN</td>\n",
       "      <td>445142.5</td>\n",
       "      <td>846750.500000</td>\n",
       "      <td>1.036938e+06</td>\n",
       "      <td>4.288988e+05</td>\n",
       "      <td>260007.250000</td>\n",
       "      <td>3.153059e+05</td>\n",
       "      <td>4.783576e+05</td>\n",
       "      <td>2.634769e+05</td>\n",
       "      <td>457485.545455</td>\n",
       "      <td>344005.733333</td>\n",
       "      <td>4.648163e+05</td>\n",
       "    </tr>\n",
       "    <tr>\n",
       "      <th>2021</th>\n",
       "      <td>375016.857143</td>\n",
       "      <td>259265.0</td>\n",
       "      <td>421850.166667</td>\n",
       "      <td>3.028468e+05</td>\n",
       "      <td>2.966973e+05</td>\n",
       "      <td>238978.666667</td>\n",
       "      <td>1.847097e+05</td>\n",
       "      <td>1.815814e+05</td>\n",
       "      <td>3.327069e+05</td>\n",
       "      <td>116005.333333</td>\n",
       "      <td>187930.000000</td>\n",
       "      <td>1.300996e+05</td>\n",
       "    </tr>\n",
       "  </tbody>\n",
       "</table>\n",
       "</div>"
      ],
      "text/plain": [
       "Month            Jan       Feb            Mar           Apr           May  \\\n",
       "Year                                                                        \n",
       "2018     4115.000000    3624.0    2471.000000  1.561539e+06  2.675200e+04   \n",
       "2019   292081.250000  129751.5  360658.571429  1.053574e+06  1.337864e+06   \n",
       "2020             NaN  445142.5  846750.500000  1.036938e+06  4.288988e+05   \n",
       "2021   375016.857143  259265.0  421850.166667  3.028468e+05  2.966973e+05   \n",
       "\n",
       "Month            Jun           Jul           Aug           Sep            Oct  \\\n",
       "Year                                                                            \n",
       "2018   513636.571429  7.451566e+06  3.366304e+06  6.318586e+05   99491.400000   \n",
       "2019   953851.125000  1.221787e+06  7.186030e+05  1.215923e+06  867665.000000   \n",
       "2020   260007.250000  3.153059e+05  4.783576e+05  2.634769e+05  457485.545455   \n",
       "2021   238978.666667  1.847097e+05  1.815814e+05  3.327069e+05  116005.333333   \n",
       "\n",
       "Month            Nov           Dec  \n",
       "Year                                \n",
       "2018    49007.333333  1.512537e+06  \n",
       "2019   661792.000000  1.649925e+06  \n",
       "2020   344005.733333  4.648163e+05  \n",
       "2021   187930.000000  1.300996e+05  "
      ]
     },
     "execution_count": 180,
     "metadata": {},
     "output_type": "execute_result"
    }
   ],
   "source": [
    "videos_df_pivot"
   ]
  },
  {
   "cell_type": "code",
   "execution_count": 389,
   "id": "6e32bbfe",
   "metadata": {},
   "outputs": [
    {
     "data": {
      "image/png": "[encoded data removed]",
      "text/plain": [
       "<Figure size 864x432 with 1 Axes>"
      ]
     },
     "metadata": {
      "needs_background": "light"
     },
     "output_type": "display_data"
    }
   ],
   "source": [
    "fig, ax = plt.subplots(figsize=(12, 6))\n",
    "videos_df_pivot.plot(kind=\"bar\", ax=ax)\n",
    "\n",
    "ax.set_title(\"Monthly freeCodeCamp Youtube Video Views Count [average] from 2018 to 2021\")\n",
    "ax.set_xlabel(\"Year\")\n",
    "ax.set_ylabel(\"Average Page Views\")\n",
    "\n",
    "plt.show()\n",
    "fig.savefig(image_path + 'monthly_freecodecamp_average_views.png')"
   ]
  },
  {
   "cell_type": "markdown",
   "id": "2140efde",
   "metadata": {},
   "source": [
    "#### According to this graph:\n",
    "- The most popular videos released are from 2018, mainly the videos from July with more than 7 millions views.\n",
    "- The recent videos (2021) are not as popular as the other ones, which may be people are not feeling interested in the content of those videos and/or opt to watch for another source."
   ]
  },
  {
   "cell_type": "code",
   "execution_count": 196,
   "id": "403127d6",
   "metadata": {},
   "outputs": [
    {
     "data": {
      "text/html": [
       "<div>\n",
       "<style scoped>\n",
       "    .dataframe tbody tr th:only-of-type {\n",
       "        vertical-align: middle;\n",
       "    }\n",
       "\n",
       "    .dataframe tbody tr th {\n",
       "        vertical-align: top;\n",
       "    }\n",
       "\n",
       "    .dataframe thead th {\n",
       "        text-align: right;\n",
       "    }\n",
       "</style>\n",
       "<table border=\"1\" class=\"dataframe\">\n",
       "  <thead>\n",
       "    <tr style=\"text-align: right;\">\n",
       "      <th></th>\n",
       "      <th>video_id</th>\n",
       "      <th>video_title</th>\n",
       "      <th>upload_date</th>\n",
       "      <th>view_count</th>\n",
       "      <th>like_count</th>\n",
       "      <th>comment_count</th>\n",
       "      <th>Month</th>\n",
       "      <th>Year</th>\n",
       "    </tr>\n",
       "    <tr>\n",
       "      <th>Month</th>\n",
       "      <th></th>\n",
       "      <th></th>\n",
       "      <th></th>\n",
       "      <th></th>\n",
       "      <th></th>\n",
       "      <th></th>\n",
       "      <th></th>\n",
       "      <th></th>\n",
       "    </tr>\n",
       "  </thead>\n",
       "  <tbody>\n",
       "    <tr>\n",
       "      <th>Jan</th>\n",
       "      <td>0Cvi6PBVS_U</td>\n",
       "      <td>Creating a Material Design Style Homepage (P5D...</td>\n",
       "      <td>2018-01-03</td>\n",
       "      <td>4115</td>\n",
       "      <td>85</td>\n",
       "      <td>0</td>\n",
       "      <td>Jan</td>\n",
       "      <td>2018</td>\n",
       "    </tr>\n",
       "    <tr>\n",
       "      <th>Jan</th>\n",
       "      <td>F0WoVEr0-44</td>\n",
       "      <td>Computational Thinking &amp;amp; Scratch - Intro t...</td>\n",
       "      <td>2019-01-22</td>\n",
       "      <td>463257</td>\n",
       "      <td>8621</td>\n",
       "      <td>268</td>\n",
       "      <td>Jan</td>\n",
       "      <td>2019</td>\n",
       "    </tr>\n",
       "    <tr>\n",
       "      <th>Jan</th>\n",
       "      <td>ix5jPkxsr7M</td>\n",
       "      <td>C Programming Language - Intro to Computer Sci...</td>\n",
       "      <td>2019-01-23</td>\n",
       "      <td>519336</td>\n",
       "      <td>13153</td>\n",
       "      <td>385</td>\n",
       "      <td>Jan</td>\n",
       "      <td>2019</td>\n",
       "    </tr>\n",
       "    <tr>\n",
       "      <th>Jan</th>\n",
       "      <td>mudOTSUumXg</td>\n",
       "      <td>HTTP, HTML, CSS - Intro to Computer Science - ...</td>\n",
       "      <td>2019-01-27</td>\n",
       "      <td>118882</td>\n",
       "      <td>3126</td>\n",
       "      <td>95</td>\n",
       "      <td>Jan</td>\n",
       "      <td>2019</td>\n",
       "    </tr>\n",
       "    <tr>\n",
       "      <th>Jan</th>\n",
       "      <td>TPMlZxRRaBQ</td>\n",
       "      <td>Tableau for Data Science and Data Visualizatio...</td>\n",
       "      <td>2019-01-29</td>\n",
       "      <td>506464</td>\n",
       "      <td>7504</td>\n",
       "      <td>154</td>\n",
       "      <td>Jan</td>\n",
       "      <td>2019</td>\n",
       "    </tr>\n",
       "  </tbody>\n",
       "</table>\n",
       "</div>"
      ],
      "text/plain": [
       "          video_id                                        video_title  \\\n",
       "Month                                                                   \n",
       "Jan    0Cvi6PBVS_U  Creating a Material Design Style Homepage (P5D...   \n",
       "Jan    F0WoVEr0-44  Computational Thinking &amp; Scratch - Intro t...   \n",
       "Jan    ix5jPkxsr7M  C Programming Language - Intro to Computer Sci...   \n",
       "Jan    mudOTSUumXg  HTTP, HTML, CSS - Intro to Computer Science - ...   \n",
       "Jan    TPMlZxRRaBQ  Tableau for Data Science and Data Visualizatio...   \n",
       "\n",
       "      upload_date  view_count  like_count  comment_count Month  Year  \n",
       "Month                                                                 \n",
       "Jan    2018-01-03        4115          85              0   Jan  2018  \n",
       "Jan    2019-01-22      463257        8621            268   Jan  2019  \n",
       "Jan    2019-01-23      519336       13153            385   Jan  2019  \n",
       "Jan    2019-01-27      118882        3126             95   Jan  2019  \n",
       "Jan    2019-01-29      506464        7504            154   Jan  2019  "
      ]
     },
     "execution_count": 196,
     "metadata": {},
     "output_type": "execute_result"
    }
   ],
   "source": [
    "new_videos_df.head()"
   ]
  },
  {
   "cell_type": "markdown",
   "id": "f3a5f143",
   "metadata": {},
   "source": [
    "#### Filtering the video title which contain Python"
   ]
  },
  {
   "cell_type": "code",
   "execution_count": 232,
   "id": "d1a6b0cb",
   "metadata": {},
   "outputs": [],
   "source": [
    "python_videos_related = new_videos_df[new_videos_df['video_title'].str.contains(\"Python\")]"
   ]
  },
  {
   "cell_type": "code",
   "execution_count": 252,
   "id": "7b0f8a38",
   "metadata": {},
   "outputs": [],
   "source": [
    "python_videos_related = python_videos_related.reset_index(drop=True)"
   ]
  },
  {
   "cell_type": "code",
   "execution_count": 278,
   "id": "3b0ae72f",
   "metadata": {},
   "outputs": [
    {
     "data": {
      "text/plain": [
       "[911465.1, 24303.64285714286, 1101.3857142857144]"
      ]
     },
     "execution_count": 278,
     "metadata": {},
     "output_type": "execute_result"
    }
   ],
   "source": [
    "python_videos_related[[\"view_count\", 'like_count', 'comment_count']].mean().tolist()"
   ]
  },
  {
   "cell_type": "code",
   "execution_count": 343,
   "id": "5fa7fa33",
   "metadata": {},
   "outputs": [],
   "source": [
    "#Create a function to get the mean of view, like and comment for each subject defined\n",
    "\n",
    "def get_info_subjects(df, list_popular_subject):\n",
    "    info_dict = {}\n",
    "    \n",
    "    for subject in list_popular_subject:\n",
    "        df_subject = df[df['video_title'].str.contains(subject)]\n",
    "        \n",
    "        values = df_subject[['view_count', 'like_count', 'comment_count']].mean().tolist()\n",
    "        round_values = [round(num, 2) for num in values]\n",
    "        \n",
    "        info_dict[subject] = round_values\n",
    "\n",
    "    return info_dict"
   ]
  },
  {
   "cell_type": "code",
   "execution_count": 344,
   "id": "7cae90fe",
   "metadata": {},
   "outputs": [],
   "source": [
    "#calling the function\n",
    "list_popular_subject = ['Data Analysis', 'Data Science', 'Machine Learning', 'Deep Learning', 'Computer Vision']\n",
    "\n",
    "info_subject = get_info_subjects(python_videos_related, list_popular_subject)"
   ]
  },
  {
   "cell_type": "code",
   "execution_count": 353,
   "id": "c268354b",
   "metadata": {},
   "outputs": [
    {
     "data": {
      "text/html": [
       "<div>\n",
       "<style scoped>\n",
       "    .dataframe tbody tr th:only-of-type {\n",
       "        vertical-align: middle;\n",
       "    }\n",
       "\n",
       "    .dataframe tbody tr th {\n",
       "        vertical-align: top;\n",
       "    }\n",
       "\n",
       "    .dataframe thead th {\n",
       "        text-align: right;\n",
       "    }\n",
       "</style>\n",
       "<table border=\"1\" class=\"dataframe\">\n",
       "  <thead>\n",
       "    <tr style=\"text-align: right;\">\n",
       "      <th></th>\n",
       "      <th>Data Analysis</th>\n",
       "      <th>Data Science</th>\n",
       "      <th>Machine Learning</th>\n",
       "      <th>Deep Learning</th>\n",
       "      <th>Computer Vision</th>\n",
       "    </tr>\n",
       "  </thead>\n",
       "  <tbody>\n",
       "    <tr>\n",
       "      <th>view_count</th>\n",
       "      <td>339739.22</td>\n",
       "      <td>1022962.0</td>\n",
       "      <td>191035.00</td>\n",
       "      <td>281521.5</td>\n",
       "      <td>239154.25</td>\n",
       "    </tr>\n",
       "    <tr>\n",
       "      <th>like_count</th>\n",
       "      <td>9295.67</td>\n",
       "      <td>29420.0</td>\n",
       "      <td>5853.00</td>\n",
       "      <td>7721.0</td>\n",
       "      <td>9886.00</td>\n",
       "    </tr>\n",
       "    <tr>\n",
       "      <th>comment_count</th>\n",
       "      <td>189.33</td>\n",
       "      <td>680.5</td>\n",
       "      <td>172.33</td>\n",
       "      <td>260.5</td>\n",
       "      <td>211.50</td>\n",
       "    </tr>\n",
       "  </tbody>\n",
       "</table>\n",
       "</div>"
      ],
      "text/plain": [
       "               Data Analysis  Data Science  Machine Learning  Deep Learning  \\\n",
       "view_count         339739.22     1022962.0         191035.00       281521.5   \n",
       "like_count           9295.67       29420.0           5853.00         7721.0   \n",
       "comment_count         189.33         680.5            172.33          260.5   \n",
       "\n",
       "               Computer Vision  \n",
       "view_count           239154.25  \n",
       "like_count             9886.00  \n",
       "comment_count           211.50  "
      ]
     },
     "execution_count": 353,
     "metadata": {},
     "output_type": "execute_result"
    }
   ],
   "source": [
    "subject_df = pd.DataFrame(info_subject, index = ['view_count', 'like_count', 'comment_count'])\n",
    "subject_df"
   ]
  },
  {
   "cell_type": "code",
   "execution_count": 391,
   "id": "df3b02bc",
   "metadata": {},
   "outputs": [
    {
     "data": {
      "image/png": "[encoded data removed]",
      "text/plain": [
       "<Figure size 1440x576 with 3 Axes>"
      ]
     },
     "metadata": {
      "needs_background": "light"
     },
     "output_type": "display_data"
    }
   ],
   "source": [
    "fig, axes = plt.subplots(1,3 , figsize=(20, 8))\n",
    "fig.suptitle('Average Views, Likes and Counts by Subject', fontsize=18)\n",
    "c = ['red', 'yellow', 'black', 'blue', 'orange']\n",
    "\n",
    "#View\n",
    "subject_df.loc['view_count'].plot(kind=\"bar\", ax=axes[0], color = c)\n",
    "\n",
    "axes[0].set_title(\"Average Views by Subject\")\n",
    "axes[0].set_ylabel(\"Average Views\")\n",
    "\n",
    "\n",
    "#Like\n",
    "subject_df.loc['like_count'].plot(kind=\"bar\", ax=axes[1], color = c)\n",
    "\n",
    "axes[1].set_title(\"Average Likes by Subject\")\n",
    "axes[1].set_ylabel(\"Average Likes\")\n",
    "\n",
    "#Comment\n",
    "\n",
    "subject_df.loc['comment_count'].plot(kind=\"bar\", ax=axes[2], color = c)\n",
    "\n",
    "axes[2].set_title(\"Average Comments by Subject\")\n",
    "axes[2].set_ylabel(\"Average Comments\")\n",
    "\n",
    "\n",
    "plt.show()\n",
    "fig.savefig(image_path + 'average_by_subject.png', dpi = 300, bbox_inches=\"tight\")"
   ]
  },
  {
   "cell_type": "markdown",
   "id": "a5c4bcec",
   "metadata": {},
   "source": [
    "#### What type of content is the most watched from freeCodeCamp YouTube channel when it envolves Python?\n",
    "This plot shows that the most popular content related with Python topic from freeCodeCamp Youtube channel are videos with Data Science as a subject/topic in the title."
   ]
  },
  {
   "cell_type": "code",
   "execution_count": 65,
   "id": "2b42436d",
   "metadata": {},
   "outputs": [],
   "source": [
    "curr.close()"
   ]
  },
  {
   "cell_type": "code",
   "execution_count": 66,
   "id": "9f82c67a",
   "metadata": {},
   "outputs": [],
   "source": [
    "conn.close()"
   ]
  }
 ],
 "metadata": {
  "kernelspec": {
   "display_name": "Python 3 (ipykernel)",
   "language": "python",
   "name": "python3"
  },
  "language_info": {
   "codemirror_mode": {
    "name": "ipython",
    "version": 3
   },
   "file_extension": ".py",
   "mimetype": "text/x-python",
   "name": "python",
   "nbconvert_exporter": "python",
   "pygments_lexer": "ipython3",
   "version": "3.9.7"
  }
 },
 "nbformat": 4,
 "nbformat_minor": 5
}
